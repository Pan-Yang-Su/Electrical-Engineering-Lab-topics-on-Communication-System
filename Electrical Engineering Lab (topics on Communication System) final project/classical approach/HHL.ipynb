{
 "cells": [
  {
   "cell_type": "code",
   "execution_count": 2,
   "metadata": {},
   "outputs": [
    {
     "ename": "ModuleNotFoundError",
     "evalue": "No module named 'iqx'",
     "output_type": "error",
     "traceback": [
      "\u001b[1;31m---------------------------------------------------------------------------\u001b[0m",
      "\u001b[1;31mModuleNotFoundError\u001b[0m                       Traceback (most recent call last)",
      "\u001b[1;32m<ipython-input-2-925ad5198cd9>\u001b[0m in \u001b[0;36m<module>\u001b[1;34m\u001b[0m\n\u001b[0;32m      5\u001b[0m \u001b[1;32mfrom\u001b[0m \u001b[0mqiskit\u001b[0m\u001b[1;33m.\u001b[0m\u001b[0mtools\u001b[0m\u001b[1;33m.\u001b[0m\u001b[0mjupyter\u001b[0m \u001b[1;32mimport\u001b[0m \u001b[1;33m*\u001b[0m\u001b[1;33m\u001b[0m\u001b[1;33m\u001b[0m\u001b[0m\n\u001b[0;32m      6\u001b[0m \u001b[1;32mfrom\u001b[0m \u001b[0mqiskit\u001b[0m\u001b[1;33m.\u001b[0m\u001b[0mvisualization\u001b[0m \u001b[1;32mimport\u001b[0m \u001b[1;33m*\u001b[0m\u001b[1;33m\u001b[0m\u001b[1;33m\u001b[0m\u001b[0m\n\u001b[1;32m----> 7\u001b[1;33m \u001b[1;32mfrom\u001b[0m \u001b[0miqx\u001b[0m \u001b[1;32mimport\u001b[0m \u001b[1;33m*\u001b[0m\u001b[1;33m\u001b[0m\u001b[1;33m\u001b[0m\u001b[0m\n\u001b[0m\u001b[0;32m      8\u001b[0m \u001b[1;33m\u001b[0m\u001b[0m\n\u001b[0;32m      9\u001b[0m \u001b[1;31m# Loading your IBM Q account(s)\u001b[0m\u001b[1;33m\u001b[0m\u001b[1;33m\u001b[0m\u001b[1;33m\u001b[0m\u001b[0m\n",
      "\u001b[1;31mModuleNotFoundError\u001b[0m: No module named 'iqx'"
     ]
    }
   ],
   "source": [
    "%matplotlib inline\n",
    "# Importing standard Qiskit libraries\n",
    "from qiskit import QuantumCircuit, execute, Aer, IBMQ\n",
    "from qiskit.compiler import transpile, assemble\n",
    "from qiskit.tools.jupyter import *\n",
    "from qiskit.visualization import *\n",
    "from iqx import *\n",
    "\n",
    "# Loading your IBM Q account(s)\n",
    "provider = IBMQ.load_account()"
   ]
  },
  {
   "cell_type": "code",
   "execution_count": 2,
   "metadata": {},
   "outputs": [
    {
     "name": "stdout",
     "output_type": "stream",
     "text": [
      "ibmq_16_melbourne\n"
     ]
    }
   ],
   "source": [
    "# real device\n",
    "# Get the least busy backend\n",
    "'''\n",
    "from qiskit.providers.ibmq import least_busy\n",
    "provider = IBMQ.get_provider(hub='ibm-q')\n",
    "backend = provider.get_backend('ibmq_16_melbourne')\n",
    "print(backend)\n",
    "'''"
   ]
  },
  {
   "cell_type": "code",
   "execution_count": 3,
   "metadata": {},
   "outputs": [],
   "source": [
    "import numpy as np\n",
    "from qiskit.circuit.library import QFT\n",
    "from qiskit.aqua import QuantumInstance, aqua_globals\n",
    "from qiskit.quantum_info import state_fidelity\n",
    "from qiskit.aqua.algorithms import HHL, NumPyLSsolver\n",
    "from qiskit.aqua.components.eigs import EigsQPE\n",
    "from qiskit.aqua.components.reciprocals import LookupRotation\n",
    "from qiskit.aqua.operators import MatrixOperator\n",
    "from qiskit.aqua.components.initial_states import Custom"
   ]
  },
  {
   "cell_type": "code",
   "execution_count": 4,
   "metadata": {},
   "outputs": [],
   "source": [
    "def create_eigs(matrix, num_ancillae, num_time_slices, negative_evals):\n",
    "    ne_qfts = [None, None]\n",
    "    if negative_evals:\n",
    "        num_ancillae += 1\n",
    "        ne_qfts = [QFT(num_ancillae - 1), QFT(num_ancillae - 1).inverse()]\n",
    "\n",
    "    return EigsQPE(MatrixOperator(matrix=matrix),\n",
    "                   QFT(num_ancillae).inverse(),\n",
    "                   num_time_slices=num_time_slices,\n",
    "                   num_ancillae=num_ancillae,\n",
    "                   expansion_mode='suzuki',\n",
    "                   expansion_order=2,\n",
    "                   evo_time=None,  # This is t, can set to: np.pi*3/4\n",
    "                   negative_evals=negative_evals,\n",
    "                   ne_qfts=ne_qfts)"
   ]
  },
  {
   "cell_type": "code",
   "execution_count": 5,
   "metadata": {},
   "outputs": [],
   "source": [
    "def preprocess(A, B, row_number, column_number, row_index, column_index):\n",
    "    #A_new is for the row player, while B_new is for the column player\n",
    "    A_new = np.zeros((row_number, column_number))\n",
    "    A_new = np.mat(A_new)\n",
    "    B_new = np.zeros((row_number, column_number))\n",
    "    B_new = np.mat(B_new)\n",
    "    for i in range(row_number):  #initialize A_new and B_new \n",
    "        for j in range(column_number):\n",
    "            A_new[i, j] = A[row_index[i], column_index[j]]\n",
    "            B_new[i, j] = B[row_index[i], column_index[j]]\n",
    "    for i in range(row_number - 1):  #construct A_new s.t. A_new * x = b\n",
    "        A_new[i] = A_new[i] - A_new[i+1]\n",
    "    A_new[row_number - 1] = [1] * column_number\n",
    "    B_new = B_new.T\n",
    "    for i in range(column_number - 1):  #construct B_new s.t. B_new * x = b\n",
    "        B_new[i] = B_new[i] - B_new[i+1]\n",
    "    B_new[column_number - 1] = [1] * row_number\n",
    "\n",
    "    b1 = np.array([0] * column_number)\n",
    "    b1[column_number - 1] = 1\n",
    "    b2 = np.array([0] * row_number)\n",
    "    b2[row_number - 1] = 1\n",
    "    return (A_new, B_new, b1, b2)"
   ]
  },
  {
   "cell_type": "code",
   "execution_count": 6,
   "metadata": {},
   "outputs": [],
   "source": [
    "def calculate_matrix(A, B, sequence, m, n):\n",
    "    # Obtain A, B, b1, b2 where A_new * x = b1, B_new * x = b2\n",
    "    ########## Preprocess ##########\n",
    "    sequence_list = [int(i) for i in sequence]\n",
    "    row  = sequence_list[:m]\n",
    "    column = sequence_list[m:]\n",
    "    row_number = sum(row)  #the row number of systems of linear equations\n",
    "    column_number = sum(column)  ##the column number of systems of linear equations\n",
    "\n",
    "    row_index = [i for i, v in enumerate(row) if v == 1]\n",
    "    column_index = [i for i, v in enumerate(column) if v == 1]\n",
    "    A_new, B_new, b1, b2 = preprocess(A, B, row_number, column_number, row_index, column_index)\n",
    "    \n",
    "    flags = [False, False]\n",
    "    if A_new.shape == (1,1):\n",
    "        A_new = [[0, A_new[0, 0]], [A_new[0, 0], 0]]\n",
    "        b1 = [0, b1[0]]\n",
    "        flags[0] = True\n",
    "    if B_new.shape == (1,1):\n",
    "        B_new = [[0, B_new[0, 0]], [B_new[0, 0], 0]]\n",
    "        b2 = [0, b2[0]]\n",
    "        flags[1] = True\n",
    "    matrices = [A_new, B_new]\n",
    "    vectors = [b1, b2]\n",
    "    ########## Preprocess End ##########\n",
    "    \n",
    "    ########## HHL Algorithm ##########\n",
    "    sols = []\n",
    "    for i in range(2):\n",
    "        orig_size = len(vectors[i])\n",
    "        matrix, vector, truncate_powerdim, truncate_hermitian = HHL.matrix_resize(matrices[i], vectors[i])\n",
    "        # Initialize eigenvalue finding module\n",
    "        eigs = create_eigs(matrix, 3, 50, True)\n",
    "        num_q, num_a = eigs.get_register_sizes()\n",
    "        # Initialize initial state module\n",
    "        init_state = Custom(num_q, state_vector=vector)\n",
    "        # Initialize reciprocal rotation module\n",
    "        reci = LookupRotation(negative_evals=eigs._negative_evals, evo_time=eigs._evo_time)\n",
    "\n",
    "        algo = HHL(matrix, vector, truncate_powerdim, truncate_hermitian, eigs,\n",
    "                   init_state, reci, num_q, num_a, orig_size)\n",
    "\n",
    "        #result = algo.run(QuantumInstance(Aer.get_backend('statevector_simulator')))\n",
    "        #result = algo.run(QuantumInstance(backend))\n",
    "        result = algo.run(QuantumInstance(provider.get_backend('ibmq_qasm_simulator')))\n",
    "        if flags[i]:\n",
    "            sols.append([np.round(result['solution'][0], 5)])\n",
    "        else:\n",
    "            sols.append(np.round(result['solution'], 5))\n",
    "    ########## HHL Algorithm End ##########\n",
    "    \n",
    "    print(\"start checking\")\n",
    "    #check the solution\n",
    "    #check whether the probability is not negative\n",
    "    for i in range(row_number):\n",
    "        if sols[0][i] < 0:\n",
    "            return False\n",
    "    for i in range(column_number):\n",
    "        if sols[1][i] < 0:\n",
    "            return False\n",
    "    print(\"probability >= 0\")\n",
    "    \n",
    "    #check whether those with zero probabilities have fewer payoffs\n",
    "    column_strategy = [0] * n\n",
    "    for i in range(column_number):\n",
    "        column_strategy[column_index[i]] = sols[1][i]\n",
    "    row_strategy = [0] * m\n",
    "    for i in range(row_number):\n",
    "        row_strategy[row_index[i]] = sols[0][i]\n",
    "    row_payoff = np.sum(np.array(A[row_index[0]]) * column_strategy)  #positive probability\n",
    "    for i in range(m):\n",
    "        temp = 0\n",
    "        flag = 0\n",
    "        #consider np.sum(np.array(A[i]) * column_strategy) with positive probability\n",
    "        for j in range(n):\n",
    "            if column[j] == 1:\n",
    "                temp += A[i, j] * column_strategy[flag]\n",
    "                flag += 1\n",
    "        if row_payoff - temp  < -10**(-10):\n",
    "            return False\n",
    "    C = B.T\n",
    "    column_payoff = np.sum(np.array(C[column_index[0]]) * row_strategy)  #positive probability\n",
    "    for i in range(n):\n",
    "        temp = 0\n",
    "        flag = 0\n",
    "        #consider np.sum(np.array(C[i]) * row_strategy) with positive probability\n",
    "        for j in range(m):\n",
    "            if row[j] == 1:\n",
    "                temp += C[i, j] * row_strategy[flag]\n",
    "                flag += 1\n",
    "        if column_payoff - temp  < -10**(-10):  \n",
    "            return False\n",
    "    print(\"payoff is correct\")\n",
    "    \n",
    "    #All is correct: Nash equilibrium\n",
    "    return (row_strategy, column_strategy)"
   ]
  },
  {
   "cell_type": "code",
   "execution_count": 7,
   "metadata": {},
   "outputs": [
    {
     "ename": "NameError",
     "evalue": "name 'provider' is not defined",
     "output_type": "error",
     "traceback": [
      "\u001b[1;31m---------------------------------------------------------------------------\u001b[0m",
      "\u001b[1;31mNameError\u001b[0m                                 Traceback (most recent call last)",
      "\u001b[1;32m<ipython-input-7-5bb919874a6f>\u001b[0m in \u001b[0;36m<module>\u001b[1;34m\u001b[0m\n\u001b[0;32m      5\u001b[0m \u001b[0mn\u001b[0m \u001b[1;33m=\u001b[0m \u001b[1;36m2\u001b[0m\u001b[1;33m\u001b[0m\u001b[1;33m\u001b[0m\u001b[0m\n\u001b[0;32m      6\u001b[0m \u001b[0msequence\u001b[0m \u001b[1;33m=\u001b[0m \u001b[1;34m'0101'\u001b[0m\u001b[1;33m\u001b[0m\u001b[1;33m\u001b[0m\u001b[0m\n\u001b[1;32m----> 7\u001b[1;33m \u001b[0mcalculate_matrix\u001b[0m\u001b[1;33m(\u001b[0m\u001b[0mA\u001b[0m\u001b[1;33m,\u001b[0m \u001b[0mB\u001b[0m\u001b[1;33m,\u001b[0m \u001b[0msequence\u001b[0m\u001b[1;33m,\u001b[0m \u001b[0mm\u001b[0m\u001b[1;33m,\u001b[0m \u001b[0mn\u001b[0m\u001b[1;33m)\u001b[0m\u001b[1;33m\u001b[0m\u001b[1;33m\u001b[0m\u001b[0m\n\u001b[0m",
      "\u001b[1;32m<ipython-input-6-e5466441c1a1>\u001b[0m in \u001b[0;36mcalculate_matrix\u001b[1;34m(A, B, sequence, m, n)\u001b[0m\n\u001b[0;32m     43\u001b[0m         \u001b[1;31m#result = algo.run(QuantumInstance(Aer.get_backend('statevector_simulator')))\u001b[0m\u001b[1;33m\u001b[0m\u001b[1;33m\u001b[0m\u001b[1;33m\u001b[0m\u001b[0m\n\u001b[0;32m     44\u001b[0m         \u001b[1;31m#result = algo.run(QuantumInstance(backend))\u001b[0m\u001b[1;33m\u001b[0m\u001b[1;33m\u001b[0m\u001b[1;33m\u001b[0m\u001b[0m\n\u001b[1;32m---> 45\u001b[1;33m         \u001b[0mresult\u001b[0m \u001b[1;33m=\u001b[0m \u001b[0malgo\u001b[0m\u001b[1;33m.\u001b[0m\u001b[0mrun\u001b[0m\u001b[1;33m(\u001b[0m\u001b[0mQuantumInstance\u001b[0m\u001b[1;33m(\u001b[0m\u001b[0mprovider\u001b[0m\u001b[1;33m.\u001b[0m\u001b[0mget_backend\u001b[0m\u001b[1;33m(\u001b[0m\u001b[1;34m'ibmq_qasm_simulator'\u001b[0m\u001b[1;33m)\u001b[0m\u001b[1;33m)\u001b[0m\u001b[1;33m)\u001b[0m\u001b[1;33m\u001b[0m\u001b[1;33m\u001b[0m\u001b[0m\n\u001b[0m\u001b[0;32m     46\u001b[0m         \u001b[1;32mif\u001b[0m \u001b[0mflags\u001b[0m\u001b[1;33m[\u001b[0m\u001b[0mi\u001b[0m\u001b[1;33m]\u001b[0m\u001b[1;33m:\u001b[0m\u001b[1;33m\u001b[0m\u001b[1;33m\u001b[0m\u001b[0m\n\u001b[0;32m     47\u001b[0m             \u001b[0msols\u001b[0m\u001b[1;33m.\u001b[0m\u001b[0mappend\u001b[0m\u001b[1;33m(\u001b[0m\u001b[1;33m[\u001b[0m\u001b[0mnp\u001b[0m\u001b[1;33m.\u001b[0m\u001b[0mround\u001b[0m\u001b[1;33m(\u001b[0m\u001b[0mresult\u001b[0m\u001b[1;33m[\u001b[0m\u001b[1;34m'solution'\u001b[0m\u001b[1;33m]\u001b[0m\u001b[1;33m[\u001b[0m\u001b[1;36m0\u001b[0m\u001b[1;33m]\u001b[0m\u001b[1;33m,\u001b[0m \u001b[1;36m5\u001b[0m\u001b[1;33m)\u001b[0m\u001b[1;33m]\u001b[0m\u001b[1;33m)\u001b[0m\u001b[1;33m\u001b[0m\u001b[1;33m\u001b[0m\u001b[0m\n",
      "\u001b[1;31mNameError\u001b[0m: name 'provider' is not defined"
     ]
    }
   ],
   "source": [
    "# Prisoner's Dilemma\n",
    "A = np.mat('3,0; 5,1')\n",
    "B = np.mat('3,5; 0,1')\n",
    "m = 2\n",
    "n = 2\n",
    "sequence = '0101'\n",
    "calculate_matrix(A, B, sequence, m, n)"
   ]
  },
  {
   "cell_type": "code",
   "execution_count": 144,
   "metadata": {},
   "outputs": [
    {
     "name": "stdout",
     "output_type": "stream",
     "text": [
      "start checking\n",
      "probability >= 0\n",
      "payoff is correct\n"
     ]
    },
    {
     "data": {
      "text/plain": [
       "([(0.8682+0j), 0], [0, (0.86949+0j)])"
      ]
     },
     "execution_count": 144,
     "metadata": {},
     "output_type": "execute_result"
    }
   ],
   "source": [
    "# An Advertising Game\n",
    "A = np.mat('6,3; 3,1')\n",
    "B = np.mat('0,1; 2,1')\n",
    "m = 2\n",
    "n = 2\n",
    "sequence = '1001'\n",
    "calculate_matrix(A, B, sequence, m, n)"
   ]
  },
  {
   "cell_type": "code",
   "execution_count": 146,
   "metadata": {},
   "outputs": [
    {
     "name": "stdout",
     "output_type": "stream",
     "text": [
      "Solution:\t\t [0.95121+0.j 1.04652+0.j]\n"
     ]
    }
   ],
   "source": [
    "# Test for HHL\n",
    "#matrix = [[0, -1/2], [-1/2, 0]]\n",
    "#vector = [2, 2]\n",
    "matrix = [[0, 1], [1, 0]]\n",
    "vector = [1, 1]\n",
    "orig_size = len(vector)\n",
    "matrix, vector, truncate_powerdim, truncate_hermitian = HHL.matrix_resize(matrix, vector)\n",
    "# Initialize eigenvalue finding module\n",
    "eigs = create_eigs(matrix, 3, 50, True)\n",
    "num_q, num_a = eigs.get_register_sizes()\n",
    "# Initialize initial state module\n",
    "init_state = Custom(num_q, state_vector=vector)\n",
    "# Initialize reciprocal rotation module\n",
    "reci = LookupRotation(negative_evals=eigs._negative_evals, evo_time=eigs._evo_time)\n",
    "\n",
    "algo = HHL(matrix, vector, truncate_powerdim, truncate_hermitian, eigs,\n",
    "           init_state, reci, num_q, num_a, orig_size)\n",
    "\n",
    "#result = algo.run(QuantumInstance(Aer.get_backend('statevector_simulator')))\n",
    "#result = algo.run(QuantumInstance(backend))\n",
    "result = algo.run(QuantumInstance(provider.get_backend('ibmq_qasm_simulator')))\n",
    "print(\"Solution:\\t\\t\", np.round(result['solution'], 5))\n",
    "\n",
    "# Monitoring our job\n",
    "#from qiskit.tools.monitor import job_monitor\n",
    "#job_monitor(job)"
   ]
  },
  {
   "cell_type": "code",
   "execution_count": null,
   "metadata": {},
   "outputs": [],
   "source": []
  }
 ],
 "metadata": {
  "kernelspec": {
   "display_name": "Python 3",
   "language": "python",
   "name": "python3"
  },
  "language_info": {
   "codemirror_mode": {
    "name": "ipython",
    "version": 3
   },
   "file_extension": ".py",
   "mimetype": "text/x-python",
   "name": "python",
   "nbconvert_exporter": "python",
   "pygments_lexer": "ipython3",
   "version": "3.7.6"
  }
 },
 "nbformat": 4,
 "nbformat_minor": 4
}
