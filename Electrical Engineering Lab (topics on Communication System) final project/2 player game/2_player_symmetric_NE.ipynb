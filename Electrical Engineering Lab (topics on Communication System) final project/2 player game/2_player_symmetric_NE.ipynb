{
 "cells": [
  {
   "cell_type": "code",
   "execution_count": 13,
   "metadata": {},
   "outputs": [
    {
     "name": "stdout",
     "output_type": "stream",
     "text": [
      "******NE #1******\n",
      "Player 1: theta = 0.0, phi = 1.5707963267948966\n",
      "Player 2: theta = 0.0, phi = 1.5707963267948966\n",
      "Payoff:  [3. 3.]\n"
     ]
    }
   ],
   "source": [
    "import qiskit\n",
    "import numpy as np\n",
    "from qiskit import QuantumCircuit , execute , Aer, QuantumRegister, ClassicalRegister\n",
    "from qiskit.visualization import plot_histogram , plot_bloch_multivector\n",
    "from math import sqrt, pi\n",
    "\n",
    "q = QuantumRegister(3)\n",
    "c = ClassicalRegister(2)\n",
    "ckt = QuantumCircuit(q, c)\n",
    "backend = Aer.get_backend('qasm_simulator')\n",
    "shots = 10\n",
    "\n",
    "N = 11\n",
    "theta = np.linspace(0, pi, N)\n",
    "phi = np.linspace(0, pi/2, N)\n",
    "# maximum entanglement\n",
    "r = pi/2\n",
    "\n",
    "strategies = [(i, j) for i in theta for j in phi]\n",
    "payoff_matrix = np.array([[3,3], [0,5], [5,0], [1,1]])\n",
    "\n",
    "strategy_pair = {}\n",
    "payoff_pair = {}\n",
    "for theta1, phi1 in strategies:\n",
    "    U1 = np.array([[np.exp(phi1*1j)*np.cos(theta1/2),np.sin(theta1/2)],[-np.sin(theta1/2),np.exp(-phi1*1j)*np.cos(theta1/2)]])\n",
    "    payoff_max = 0\n",
    "    for theta2, phi2 in strategies:\n",
    "        U2 = np.array([[np.exp(phi2*1j)*np.cos(theta2/2),np.sin(theta2/2)],[-np.sin(theta2/2),np.exp(-phi2*1j)*np.cos(theta2/2)]])\n",
    "        # clear the quantum circuit\n",
    "        ckt.data.clear()\n",
    "        ckt.reset(q)\n",
    "        # end\n",
    "        ckt.x(0)  #C = 1\n",
    "        ckt.x(1)  #C = 1\n",
    "        ckt.rx(-pi/2, 0)\n",
    "        ckt.rx(-pi/2, 1)\n",
    "        ckt.cx(q[0], q[2])\n",
    "        ckt.cx(q[1], q[2])\n",
    "        ckt.rz(r, q[2])\n",
    "        ckt.cx(q[1], q[2])\n",
    "        ckt.cx(q[0], q[2])\n",
    "        ckt.rx(pi/2, 1)\n",
    "        ckt.rx(pi/2, 0)\n",
    "        ckt.squ(U1, q[0])\n",
    "        ckt.squ(U2, q[1])\n",
    "        ckt.rx(-pi/2, 0)\n",
    "        ckt.rx(-pi/2, 1)\n",
    "        ckt.cx(q[0], q[2])\n",
    "        ckt.cx(q[1], q[2])\n",
    "        ckt.rz(-r, q[2])\n",
    "        ckt.cx(q[1], q[2])\n",
    "        ckt.cx(q[0], q[2])\n",
    "        ckt.rx(pi/2, 1)\n",
    "        ckt.rx(pi/2, 0)\n",
    "        ckt.measure([0,1], [0,1])\n",
    "        results = execute(ckt, backend=backend, shots=shots).result()\n",
    "        answer = results.get_counts()\n",
    "        payoff = 0\n",
    "        for i in answer:\n",
    "            if (i == \"11\"):\n",
    "                payoff = payoff + payoff_matrix[0]*answer[i]/shots\n",
    "            if (i == \"10\"):\n",
    "                payoff = payoff + payoff_matrix[2]*answer[i]/shots\n",
    "            if (i == \"01\"):\n",
    "                payoff = payoff + payoff_matrix[1]*answer[i]/shots\n",
    "            if (i == \"00\"):\n",
    "                payoff = payoff + payoff_matrix[3]*answer[i]/shots\n",
    "        if payoff[1] > payoff_max:\n",
    "            strategy_pair[(theta1, phi1)] = (theta2, phi2)\n",
    "            payoff_pair[(theta1, phi1)] = payoff\n",
    "            payoff_max = payoff[1]\n",
    "\n",
    "# NE\n",
    "# if player 1 choose (theta1, phi1), then player 2 will choose (theta2, phi2)\n",
    "# if player 2 choose (theta2, phi2), then player 1 will choose (theta1, phi1)\n",
    "## by symmetric, the second condition can be re-stated as follows\n",
    "## if player 1 choose (theta2, phi2), then player 2 will choose (theta1, phi1)\n",
    "NE = [(k, v) for (k, v) in strategy_pair.items() if strategy_pair[v] == k]\n",
    "for cnt, ne in enumerate(NE):\n",
    "    print(f'******NE #{cnt+1}******')\n",
    "    print(f'Player 1: theta = {ne[0][0]}, phi = {ne[0][1]}')\n",
    "    print(f'Player 2: theta = {ne[1][0]}, phi = {ne[1][1]}')\n",
    "    print('Payoff: ', payoff_pair[ne[0]])\n",
    "\n",
    "#print(NE)"
   ]
  },
  {
   "cell_type": "code",
   "execution_count": 7,
   "metadata": {},
   "outputs": [
    {
     "data": {
      "text/plain": [
       "array([0.        , 0.31415927, 0.62831853, 0.9424778 , 1.25663706,\n",
       "       1.57079633, 1.88495559, 2.19911486, 2.51327412, 2.82743339,\n",
       "       3.14159265])"
      ]
     },
     "execution_count": 7,
     "metadata": {},
     "output_type": "execute_result"
    }
   ],
   "source": [
    "theta"
   ]
  },
  {
   "cell_type": "code",
   "execution_count": 8,
   "metadata": {},
   "outputs": [
    {
     "data": {
      "text/plain": [
       "array([0.        , 0.15707963, 0.31415927, 0.4712389 , 0.62831853,\n",
       "       0.78539816, 0.9424778 , 1.09955743, 1.25663706, 1.41371669,\n",
       "       1.57079633])"
      ]
     },
     "execution_count": 8,
     "metadata": {},
     "output_type": "execute_result"
    }
   ],
   "source": [
    "phi"
   ]
  },
  {
   "cell_type": "code",
   "execution_count": null,
   "metadata": {},
   "outputs": [],
   "source": []
  }
 ],
 "metadata": {
  "kernelspec": {
   "display_name": "Python 3",
   "language": "python",
   "name": "python3"
  },
  "language_info": {
   "codemirror_mode": {
    "name": "ipython",
    "version": 3
   },
   "file_extension": ".py",
   "mimetype": "text/x-python",
   "name": "python",
   "nbconvert_exporter": "python",
   "pygments_lexer": "ipython3",
   "version": "3.7.6"
  }
 },
 "nbformat": 4,
 "nbformat_minor": 4
}
