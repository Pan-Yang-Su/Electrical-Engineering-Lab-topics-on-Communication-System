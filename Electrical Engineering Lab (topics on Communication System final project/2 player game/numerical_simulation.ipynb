{
 "cells": [
  {
   "cell_type": "markdown",
   "metadata": {},
   "source": [
    "# use matrix to simulate quantum game"
   ]
  },
  {
   "cell_type": "code",
   "execution_count": 1,
   "metadata": {},
   "outputs": [],
   "source": [
    "# strategy space\n",
    "def strategy(theta, phi):\n",
    "    return np.array([[np.exp(phi*1j)*np.cos(theta/2),np.sin(theta/2)],[-np.sin(theta/2),np.exp(-phi*1j)*np.cos(theta/2)]])"
   ]
  },
  {
   "cell_type": "code",
   "execution_count": 4,
   "metadata": {},
   "outputs": [
    {
     "name": "stdout",
     "output_type": "stream",
     "text": [
      "[[1. 1.]]\n"
     ]
    }
   ],
   "source": [
    "import numpy as np\n",
    "from scipy.linalg import expm\n",
    "# adjust parameter as user want\n",
    "theta1=np.pi/2\n",
    "phi1=np.pi/2\n",
    "theta2=np.pi/2\n",
    "phi2=0\n",
    "r = np.pi / 2\n",
    "#######################################################################\n",
    "#strategy player decide to use\n",
    "U1=strategy(theta1,phi1)\n",
    "U2=strategy(theta2, phi2)\n",
    "a_b=np.tensordot(U1, U2, 0)\n",
    "U1_U2=np.array(\n",
    "              [[a_b[0][0][0][0], a_b[0][0][0][1], a_b[0][1][0][0], a_b[0][1][0][1]],\n",
    "              [a_b[0][0][1][0], a_b[0][0][1][1], a_b[0][1][1][0], a_b[0][1][1][1]],\n",
    "              [a_b[1][0][0][0], a_b[1][0][0][1], a_b[1][1][0][0], a_b[1][1][0][1]],\n",
    "              [a_b[1][0][1][0], a_b[1][0][1][1], a_b[1][1][1][0], a_b[1][1][1][1]]])\n",
    "#######################################################################\n",
    "#J operator\n",
    "J_entaglement=np.array(\n",
    "             [[0, 0, 0, 1],\n",
    "              [0, 0, -1, 0],\n",
    "              [0, -1, 0, 0],\n",
    "              [1, 0, 0, 0]])  \n",
    "J = expm(1j * r * J_entaglement/2)\n",
    "#######################################################################\n",
    "# concatenate all matrix. Get each state probobilty respectively\n",
    "CC=[[1],[0],[0],[0]]\n",
    "CD=[[0],[1],[0],[0]]\n",
    "DC=[[0],[0],[1],[0]]\n",
    "DD=[[0],[0],[0],[1]]\n",
    "final_state=np.matrix(np.matmul(J,CC))\n",
    "final_state=np.array(final_state.getH())\n",
    "PCC=np.matmul(np.matmul(final_state,U1_U2), np.matmul(J,CC))\n",
    "PCC=(np.absolute(PCC))**2\n",
    "\n",
    "final_state=np.matrix(np.matmul(J,CC))\n",
    "final_state=np.array(final_state.getH())\n",
    "PCC=np.matmul(np.matmul(final_state,U1_U2), np.matmul(J,CC))\n",
    "PCC=(np.absolute(PCC))**2\n",
    "\n",
    "final_state=np.matrix(np.matmul(J,CD))\n",
    "final_state=np.array(final_state.getH())\n",
    "PCD=np.matmul(np.matmul(final_state,U1_U2), np.matmul(J,CC))\n",
    "PCD=(np.absolute(PCD))**2\n",
    "\n",
    "final_state=np.matrix(np.matmul(J,DC))\n",
    "final_state=np.array(final_state.getH())\n",
    "PDC=np.matmul(np.matmul(final_state,U1_U2), np.matmul(J,CC))\n",
    "PDC=(np.absolute(PDC))**2\n",
    "\n",
    "final_state=np.matrix(np.matmul(J,DD))\n",
    "final_state=np.array(final_state.getH())\n",
    "PDD=np.matmul(np.matmul(final_state,U1_U2), np.matmul(J,CC))\n",
    "PDD=(np.absolute(PDD))**2\n",
    "\n",
    "payoff_matrix=np.array(\n",
    "    [[3,3],[0,5],[5,0],[1,1]]\n",
    "            )\n",
    "payoff=0\n",
    "payoff=payoff_matrix[0]*PCC+payoff_matrix[1]*PCD+payoff_matrix[2]*PDC+payoff_matrix[3]*PDD\n",
    "print(payoff)"
   ]
  }
 ],
 "metadata": {
  "kernelspec": {
   "display_name": "Python 3",
   "language": "python",
   "name": "python3"
  },
  "language_info": {
   "codemirror_mode": {
    "name": "ipython",
    "version": 3
   },
   "file_extension": ".py",
   "mimetype": "text/x-python",
   "name": "python",
   "nbconvert_exporter": "python",
   "pygments_lexer": "ipython3",
   "version": "3.8.5"
  }
 },
 "nbformat": 4,
 "nbformat_minor": 4
}
