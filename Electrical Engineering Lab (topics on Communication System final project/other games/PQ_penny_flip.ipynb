{
 "cells": [
  {
   "cell_type": "markdown",
   "metadata": {},
   "source": [
    "# PQ penny flip basic circuit"
   ]
  },
  {
   "cell_type": "code",
   "execution_count": 1,
   "metadata": {},
   "outputs": [
    {
     "data": {
      "text/html": [
       "<pre style=\"word-wrap: normal;white-space: pre;background: #fff0;line-height: 1.1;font-family: &quot;Courier New&quot;,Courier,monospace\">      ┌─────────┐┌───┐┌─────────┐\n",
       "q0_0: ┤ UNITARY ├┤ X ├┤ UNITARY ├\n",
       "      └─────────┘└───┘└─────────┘\n",
       "c0: 1/═══════════════════════════\n",
       "                                 </pre>"
      ],
      "text/plain": [
       "      ┌─────────┐┌───┐┌─────────┐\n",
       "q0_0: ┤ UNITARY ├┤ X ├┤ UNITARY ├\n",
       "      └─────────┘└───┘└─────────┘\n",
       "c0: 1/═══════════════════════════\n",
       "                                 "
      ]
     },
     "execution_count": 1,
     "metadata": {},
     "output_type": "execute_result"
    }
   ],
   "source": [
    "import random\n",
    "import qiskit\n",
    "import numpy as np\n",
    "from qiskit import QuantumCircuit , execute , Aer, QuantumRegister, ClassicalRegister\n",
    "from qiskit.visualization import plot_histogram , plot_bloch_multivector\n",
    "from math import sqrt , pi\n",
    "theta=np.pi/4\n",
    "Q1=np.array([[np.cos(theta),np.sin(theta)],[np.sin(theta),-np.cos(theta)]])\n",
    "Q2=np.array([[np.cos(theta),np.sin(theta)],[np.sin(theta),-np.cos(theta)]])\n",
    "q=QuantumRegister(1)\n",
    "c = ClassicalRegister(1)\n",
    "circuit = QuantumCircuit(q,c)\n",
    "circuit.squ(Q1, q)\n",
    "circuit.x(q)\n",
    "circuit.squ(Q2, q)\n",
    "circuit.draw()"
   ]
  },
  {
   "cell_type": "markdown",
   "metadata": {},
   "source": [
    "# PQ penny flip with asymetric strategy"
   ]
  },
  {
   "cell_type": "code",
   "execution_count": 2,
   "metadata": {},
   "outputs": [
    {
     "name": "stdout",
     "output_type": "stream",
     "text": [
      "We find in following graph that no matter what strategy P use, Q always win \n"
     ]
    },
    {
     "data": {
      "text/plain": [
       "Text(0.5, 0, 'mix strategy P use')"
      ]
     },
     "execution_count": 2,
     "metadata": {},
     "output_type": "execute_result"
    },
    {
     "data": {
      "image/png": "[encoded data removed]",
      "text/plain": [
       "<Figure size 432x288 with 1 Axes>"
      ]
     },
     "metadata": {
      "needs_background": "light"
     },
     "output_type": "display_data"
    }
   ],
   "source": [
    "# Q can use quantum strategy\n",
    "# P can only use classicalstrategy\n",
    "import random\n",
    "import qiskit\n",
    "import numpy as np\n",
    "from qiskit import QuantumCircuit , execute , Aer, QuantumRegister, ClassicalRegister\n",
    "from qiskit.visualization import plot_histogram , plot_bloch_multivector\n",
    "from math import sqrt , pi\n",
    "theta=np.pi/4\n",
    "Q1=np.array([[np.cos(theta),np.sin(theta)],[np.sin(theta),-np.cos(theta)]])\n",
    "Q2=np.array([[np.cos(theta),np.sin(theta)],[np.sin(theta),-np.cos(theta)]])\n",
    "p_list=[]\n",
    "payoff_list=[]\n",
    "for j in range(11):\n",
    "    p=j/10\n",
    "    p_list.append(p)\n",
    "    payoff=0\n",
    "    for i in range(100):\n",
    "        q=QuantumRegister(1)\n",
    "        c = ClassicalRegister(1)\n",
    "        circuit = QuantumCircuit(q,c)\n",
    "        circuit.squ(Q1, q)\n",
    "        j=random.uniform(0, 1)\n",
    "        if j<p:\n",
    "            pass\n",
    "        else:\n",
    "            circuit.x(q)\n",
    "        circuit.squ(Q2, q)\n",
    "        circuit.draw()\n",
    "        circuit.measure(q,c)\n",
    "        backend = Aer.get_backend('qasm_simulator')\n",
    "        shots = 1024\n",
    "        results = execute(circuit, backend=backend, shots=shots).result()\n",
    "        answer = results.get_counts()\n",
    "        payoff_matrix=np.array([[1,-1],[-1,1]])\n",
    "        for k in answer:\n",
    "            if (k==\"0\"):\n",
    "                payoff=payoff+payoff_matrix[0]*answer[k]/shots\n",
    "            if (k==\"1\"):\n",
    "                payoff=payoff+payoff_matrix[1]*answer[k]/shots\n",
    "    payoff_list.append(payoff[0]/100)\n",
    "print(\"We find in following graph that no matter what strategy P use, Q always win \")\n",
    "import matplotlib.pyplot as plt\n",
    "plt.plot(p_list,payoff_list)\n",
    "plt.ylabel('payoff of Q')\n",
    "plt.xlabel('mix strategy P use')"
   ]
  },
  {
   "cell_type": "markdown",
   "metadata": {},
   "source": [
    "# PQ penny flip with both quantum strategy"
   ]
  },
  {
   "cell_type": "code",
   "execution_count": 3,
   "metadata": {},
   "outputs": [
    {
     "name": "stdout",
     "output_type": "stream",
     "text": [
      "we can see that the best response of P can always achieve payoff=1\n",
      "P best response: [1.0, 1.0, 1.0, 1.0, 1.0, 1.0, 1.0, 1.0, 1.0, 1.0, 1.0, 1.0, 1.0, 1.0, 1.0, 1.0, 1.0, 1.0, 1.0, 1.0, 1.0, 1.0, 1.0, 1.0, 1.0, 1.0, 1.0, 1.0, 1.0, 1.0, 1.0, 1.0, 1.0, 1.0, 1.0, 1.0, 1.0, 1.0, 1.0, 1.0, 1.0, 1.0, 1.0, 1.0, 1.0, 1.0, 1.0, 1.0, 1.0, 1.0, 1.0, 1.0, 1.0, 1.0, 1.0, 1.0, 1.0, 1.0, 1.0, 1.0, 1.0, 1.0, 1.0, 1.0, 1.0, 1.0, 1.0, 1.0, 1.0, 1.0, 1.0, 1.0, 1.0, 1.0, 1.0, 1.0, 1.0, 1.0, 1.0, 1.0, 1.0, 1.0, 1.0, 1.0, 1.0, 1.0, 1.0, 1.0, 1.0, 1.0, 1.0, 1.0, 1.0, 1.0, 1.0, 1.0, 1.0, 1.0, 1.0, 1.0, 1.0, 1.0, 1.0, 1.0, 1.0, 1.0, 1.0, 1.0, 1.0, 1.0, 1.0, 1.0, 1.0, 1.0, 1.0, 1.0, 1.0, 1.0, 1.0, 1.0, 1.0]\n"
     ]
    }
   ],
   "source": [
    "# find P best response\n",
    "import random\n",
    "import qiskit\n",
    "import numpy as np\n",
    "from qiskit import QuantumCircuit , execute , Aer, QuantumRegister, ClassicalRegister\n",
    "from qiskit.visualization import plot_histogram , plot_bloch_multivector\n",
    "from math import sqrt , pi\n",
    "max_payoff_list=[]\n",
    "max_theta_list=[]\n",
    "max_theta2_list=[]\n",
    "for i in range(11):\n",
    "    for l in range(11):\n",
    "        max_payoff=0\n",
    "        for j in range(11):\n",
    "            payoff=0\n",
    "            q=QuantumRegister(1)\n",
    "            c = ClassicalRegister(1)\n",
    "            circuit = QuantumCircuit(q,c)\n",
    "            theta=pi/10*i\n",
    "            theta1=pi/10*l\n",
    "            theta2=pi/10*j\n",
    "            Q1=np.array([[np.cos(theta),np.sin(theta)],[np.sin(theta),-np.cos(theta)]])\n",
    "            Q2=np.array([[np.cos(theta1),np.sin(theta1)],[np.sin(theta1),-np.cos(theta1)]])\n",
    "            P=np.array([[np.cos(theta2),np.sin(theta2)],[np.sin(theta2),-np.cos(theta2)]])\n",
    "            circuit.squ(Q1, q)\n",
    "            circuit.squ(P, q)\n",
    "            circuit.squ(Q2, q)\n",
    "            circuit.draw()\n",
    "            circuit.measure(q,c)\n",
    "            backend = Aer.get_backend('qasm_simulator')\n",
    "            shots = 1024\n",
    "            results = execute(circuit, backend=backend, shots=shots).result()\n",
    "            answer = results.get_counts()\n",
    "            payoff_matrix=np.array([[1,-1],[-1,1]])\n",
    "            for k in answer:\n",
    "                if (k==\"0\"):\n",
    "                    payoff=payoff+payoff_matrix[0]*answer[k]/shots\n",
    "                if (k==\"1\"):\n",
    "                    payoff=payoff+payoff_matrix[1]*answer[k]/shots\n",
    "            if payoff[0]>max_payoff:\n",
    "                max_payoff=payoff[0]\n",
    "                index=j\n",
    "        max_payoff_list.append(max_payoff)  \n",
    "        max_theta_list.append((i,l))\n",
    "        max_theta2_list.append(index)\n",
    "print(\"we can see that the best response of P can always achieve payoff=1\")\n",
    "print(\"P best response:\",max_payoff_list)"
   ]
  },
  {
   "cell_type": "code",
   "execution_count": 4,
   "metadata": {},
   "outputs": [
    {
     "name": "stdout",
     "output_type": "stream",
     "text": [
      "we can see that the best response of Q can always achieve payoff=1\n",
      "Q best response: [1.0, 1.0, 1.0, 1.0, 1.0, 1.0, 1.0, 1.0, 1.0, 1.0, 1.0]\n"
     ]
    }
   ],
   "source": [
    "# find Q best response\n",
    "import random\n",
    "import qiskit\n",
    "import numpy as np\n",
    "from qiskit import QuantumCircuit , execute , Aer, QuantumRegister, ClassicalRegister\n",
    "from qiskit.visualization import plot_histogram , plot_bloch_multivector\n",
    "from math import sqrt , pi\n",
    "max_payoff_list_2=[]\n",
    "max_theta_list_2=[]\n",
    "max_theta2_list_2=[]\n",
    "for i in range(11):\n",
    "    max_payoff=0\n",
    "    for l in range(11):\n",
    "        for j in range(11):\n",
    "            payoff=0\n",
    "            q=QuantumRegister(1)\n",
    "            c = ClassicalRegister(1)\n",
    "            circuit = QuantumCircuit(q,c)\n",
    "            theta=pi/10*l\n",
    "            theta1=pi/10*j\n",
    "            theta2=pi/10*i\n",
    "            Q1=np.array([[np.cos(theta),np.sin(theta)],[np.sin(theta),-np.cos(theta)]])\n",
    "            Q2=np.array([[np.cos(theta1),np.sin(theta1)],[np.sin(theta1),-np.cos(theta1)]])\n",
    "            P=np.array([[np.cos(theta2),np.sin(theta2)],[np.sin(theta2),-np.cos(theta2)]])\n",
    "            circuit.squ(Q1, q)\n",
    "            circuit.squ(P, q)\n",
    "            circuit.squ(Q2, q)\n",
    "            circuit.draw()\n",
    "            circuit.measure(q,c)\n",
    "            backend = Aer.get_backend('qasm_simulator')\n",
    "            shots = 1024\n",
    "            results = execute(circuit, backend=backend, shots=shots).result()\n",
    "            answer = results.get_counts()\n",
    "            payoff_matrix=np.array([[1,-1],[-1,1]])\n",
    "            for k in answer:\n",
    "                if (k==\"0\"):\n",
    "                    payoff=payoff+payoff_matrix[0]*answer[k]/shots\n",
    "                if (k==\"1\"):\n",
    "                    payoff=payoff+payoff_matrix[1]*answer[k]/shots\n",
    "            if payoff[1]>max_payoff:\n",
    "                max_payoff=payoff[1]\n",
    "                index=(l,j)\n",
    "    max_payoff_list_2.append(max_payoff)\n",
    "    max_theta2_list_2.append(i)\n",
    "    max_theta_list_2.append(index)\n",
    "print(\"we can see that the best response of Q can always achieve payoff=1\")\n",
    "print(\"Q best response:\",max_payoff_list_2)"
   ]
  },
  {
   "cell_type": "code",
   "execution_count": 6,
   "metadata": {},
   "outputs": [
    {
     "name": "stdout",
     "output_type": "stream",
     "text": [
      "no pure strategy Nash Equilibrium: []\n"
     ]
    }
   ],
   "source": [
    "NE=[]\n",
    "NE_theta=[]\n",
    "NE_theta2=[]\n",
    "\n",
    "for i in range(len(max_payoff_list_2)):\n",
    "    for s in range(len(max_payoff_list)):\n",
    "        if (max_theta_list_2[i]==max_theta_list[s] and max_theta2_list[s]==i):\n",
    "            NE.append((max_payoff_list[s],max_payoff_list_2[i]))\n",
    "            NE_theta.append(max_theta_list[s])\n",
    "            NE_theta2.append(i)\n",
    "print(\"no pure strategy Nash Equilibrium:\",NE)"
   ]
  },
  {
   "cell_type": "code",
   "execution_count": null,
   "metadata": {},
   "outputs": [],
   "source": []
  }
 ],
 "metadata": {
  "kernelspec": {
   "display_name": "Python 3",
   "language": "python",
   "name": "python3"
  },
  "language_info": {
   "codemirror_mode": {
    "name": "ipython",
    "version": 3
   },
   "file_extension": ".py",
   "mimetype": "text/x-python",
   "name": "python",
   "nbconvert_exporter": "python",
   "pygments_lexer": "ipython3",
   "version": "3.7.6"
  }
 },
 "nbformat": 4,
 "nbformat_minor": 4
}
