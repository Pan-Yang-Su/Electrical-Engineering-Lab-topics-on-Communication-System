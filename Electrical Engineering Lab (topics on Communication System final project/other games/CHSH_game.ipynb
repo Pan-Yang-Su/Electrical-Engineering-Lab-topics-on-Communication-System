{
 "cells": [
  {
   "cell_type": "markdown",
   "metadata": {},
   "source": [
    "# CHSH　game"
   ]
  },
  {
   "cell_type": "code",
   "execution_count": 3,
   "metadata": {},
   "outputs": [],
   "source": [
    "import random\n",
    "import qiskit\n",
    "import numpy as np\n",
    "from qiskit import QuantumCircuit , execute , Aer, QuantumRegister, ClassicalRegister\n",
    "from qiskit.visualization import plot_histogram , plot_bloch_multivector\n",
    "from math import sqrt , pi"
   ]
  },
  {
   "cell_type": "markdown",
   "metadata": {},
   "source": [
    "# classical version expected payoff = 0.75"
   ]
  },
  {
   "cell_type": "code",
   "execution_count": 10,
   "metadata": {},
   "outputs": [
    {
     "name": "stdout",
     "output_type": "stream",
     "text": [
      "classical game payoff:  0.758\n"
     ]
    }
   ],
   "source": [
    "payoff = 0\n",
    "for i in range(1000):\n",
    "    x = random.randint(0,1)\n",
    "    y = random.randint(0,1)\n",
    "\n",
    "    #Alice\n",
    "    a = 0\n",
    "    #Bob\n",
    "    b = 0\n",
    "    if a ^ b == x * y:\n",
    "        payoff  += 1\n",
    "print(\"classical game payoff: \", payoff / 1000)"
   ]
  },
  {
   "cell_type": "markdown",
   "metadata": {},
   "source": [
    "# quantum version expected payoff = 0.8"
   ]
  },
  {
   "cell_type": "code",
   "execution_count": 11,
   "metadata": {},
   "outputs": [
    {
     "name": "stdout",
     "output_type": "stream",
     "text": [
      "quantum game 1 payoff:  0.822\n"
     ]
    }
   ],
   "source": [
    "payoff = 0\n",
    "for i in range(1000):\n",
    "    x = random.randint(0,1)\n",
    "    y = random.randint(0,1)\n",
    "    q = QuantumRegister(2)\n",
    "    c = ClassicalRegister(2)\n",
    "    CHSH = QuantumCircuit(q, c)\n",
    "    CHSH.h(1)\n",
    "    CHSH.cx(1, 0)\n",
    "    #Alice\n",
    "    if x == 1:\n",
    "        CHSH.u3(pi / 4, 0, 0, 0)\n",
    "    #Bob\n",
    "    if y == 1:\n",
    "        CHSH.u3(-pi / 4, 0, 0, 1)\n",
    "    CHSH.measure(q, c)\n",
    "    backend = Aer.get_backend('qasm_simulator')\n",
    "    shots = 1\n",
    "    results = execute(CHSH, backend=backend, shots=shots).result()\n",
    "    answer = results.get_counts()\n",
    "    for i in answer:\n",
    "        a = int(i[0])\n",
    "        b = int(i[1])\n",
    "    if a ^ b == x * y:\n",
    "        payoff  += 1\n",
    "print(\"quantum game 1 payoff: \", payoff / 1000)"
   ]
  },
  {
   "cell_type": "markdown",
   "metadata": {},
   "source": [
    "# quantum version expected payoff = 0.85"
   ]
  },
  {
   "cell_type": "code",
   "execution_count": 8,
   "metadata": {},
   "outputs": [
    {
     "data": {
      "text/html": [
       "<pre style=\"word-wrap: normal;white-space: pre;background: #fff0;line-height: 1.1;font-family: &quot;Courier New&quot;,Courier,monospace\">              ┌───┐┌───────────────┐┌─┐   \n",
       "q9739_0: ─────┤ X ├┤ U3(pi/2,0,pi) ├┤M├───\n",
       "         ┌───┐└─┬─┘├───────────────┤└╥┘┌─┐\n",
       "q9739_1: ┤ H ├──■──┤ U3(pi/4,0,pi) ├─╫─┤M├\n",
       "         └───┘     └───────────────┘ ║ └╥┘\n",
       "c2001: 2/════════════════════════════╩══╩═\n",
       "                                     0  1 </pre>"
      ],
      "text/plain": [
       "              ┌───┐┌───────────────┐┌─┐   \n",
       "q9739_0: ─────┤ X ├┤ U3(pi/2,0,pi) ├┤M├───\n",
       "         ┌───┐└─┬─┘├───────────────┤└╥┘┌─┐\n",
       "q9739_1: ┤ H ├──■──┤ U3(pi/4,0,pi) ├─╫─┤M├\n",
       "         └───┘     └───────────────┘ ║ └╥┘\n",
       "c2001: 2/════════════════════════════╩══╩═\n",
       "                                     0  1 "
      ]
     },
     "execution_count": 8,
     "metadata": {},
     "output_type": "execute_result"
    }
   ],
   "source": [
    "x = random.randint(0,1)\n",
    "y = random.randint(0,1)\n",
    "q = QuantumRegister(2)\n",
    "c = ClassicalRegister(2)\n",
    "CHSH = QuantumCircuit(q, c)\n",
    "CHSH.h(1)\n",
    "CHSH.cx(1, 0)\n",
    "#Alice\n",
    "if x == 0:\n",
    "    CHSH.u3(0, 0, pi, 0)\n",
    "else:\n",
    "    CHSH.u3(pi/2, 0, pi, 0)\n",
    "#Bob\n",
    "if y == 0:\n",
    "    CHSH.u3(pi/4, 0, pi, 1)\n",
    "else:\n",
    "    CHSH.u3(-pi/4, 0, pi, 1)\n",
    "CHSH.measure(q, c)\n",
    "CHSH.draw()"
   ]
  },
  {
   "cell_type": "code",
   "execution_count": 12,
   "metadata": {
    "scrolled": false
   },
   "outputs": [
    {
     "name": "stdout",
     "output_type": "stream",
     "text": [
      "quantum game 2 payoff:  0.857\n"
     ]
    }
   ],
   "source": [
    "payoff = 0\n",
    "for i in range(1000):\n",
    "    x = random.randint(0,1)\n",
    "    y = random.randint(0,1)\n",
    "    q = QuantumRegister(2)\n",
    "    c = ClassicalRegister(2)\n",
    "    CHSH = QuantumCircuit(q, c)\n",
    "    CHSH.h(1)\n",
    "    CHSH.cx(1, 0)\n",
    "    #Alice\n",
    "    if x == 0:\n",
    "        CHSH.u3(0, 0, pi, 0)\n",
    "    else:\n",
    "        CHSH.u3(pi/2, 0, pi, 0)\n",
    "    #Bob\n",
    "    if y == 0:\n",
    "        CHSH.u3(pi/4, 0, pi, 1)\n",
    "    else:\n",
    "        CHSH.u3(-pi/4, 0, pi, 1)\n",
    "    CHSH.measure(q, c)\n",
    "    backend = Aer.get_backend('qasm_simulator')\n",
    "    shots = 1\n",
    "    results = execute(CHSH, backend=backend, shots=shots).result()\n",
    "    answer = results.get_counts()\n",
    "    for i in answer:\n",
    "        a = int(i[0])\n",
    "        b = int(i[1])\n",
    "    if a ^ b == x * y:\n",
    "        payoff  += 1\n",
    "print(\"quantum game 2 payoff: \", payoff / 1000)"
   ]
  },
  {
   "cell_type": "code",
   "execution_count": null,
   "metadata": {},
   "outputs": [],
   "source": []
  }
 ],
 "metadata": {
  "kernelspec": {
   "display_name": "Python 3",
   "language": "python",
   "name": "python3"
  },
  "language_info": {
   "codemirror_mode": {
    "name": "ipython",
    "version": 3
   },
   "file_extension": ".py",
   "mimetype": "text/x-python",
   "name": "python",
   "nbconvert_exporter": "python",
   "pygments_lexer": "ipython3",
   "version": "3.7.6"
  }
 },
 "nbformat": 4,
 "nbformat_minor": 4
}
